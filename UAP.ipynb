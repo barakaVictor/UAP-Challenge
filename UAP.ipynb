{
  "nbformat": 4,
  "nbformat_minor": 0,
  "metadata": {
    "colab": {
      "name": "UAP.ipynb",
      "provenance": [],
      "authorship_tag": "ABX9TyMa/0OPOeYk0mG3boKa8+qG",
      "include_colab_link": true
    },
    "kernelspec": {
      "display_name": "Python 3",
      "name": "python3"
    },
    "language_info": {
      "name": "python"
    }
  },
  "cells": [
    {
      "cell_type": "markdown",
      "metadata": {
        "id": "view-in-github",
        "colab_type": "text"
      },
      "source": [
        "<a href=\"https://colab.research.google.com/github/barakaVictor/UAP-Challenge/blob/main/UAP.ipynb\" target=\"_parent\"><img src=\"https://colab.research.google.com/assets/colab-badge.svg\" alt=\"Open In Colab\"/></a>"
      ]
    },
    {
      "cell_type": "code",
      "metadata": {
        "colab": {
          "background_save": true,
          "base_uri": "https://localhost:8080/"
        },
        "id": "EB8SBUpydrbj",
        "outputId": "ae6380ff-b4f7-4e85-c295-a12bb07833fe"
      },
      "source": [
        "!pip install pyreadr"
      ],
      "execution_count": null,
      "outputs": [
        {
          "output_type": "stream",
          "text": [
            "Collecting pyreadr\n",
            "\u001b[?25l  Downloading https://files.pythonhosted.org/packages/f1/90/64545feb97a442f67d1f2d582518044024fa9355df924cdad1ff2374fc54/pyreadr-0.4.2-cp37-cp37m-manylinux_2_17_x86_64.manylinux2014_x86_64.whl (409kB)\n",
            "\r\u001b[K     |▉                               | 10kB 13.3MB/s eta 0:00:01\r\u001b[K     |█▋                              | 20kB 18.3MB/s eta 0:00:01\r\u001b[K     |██▍                             | 30kB 12.6MB/s eta 0:00:01\r\u001b[K     |███▏                            | 40kB 9.9MB/s eta 0:00:01\r\u001b[K     |████                            | 51kB 5.4MB/s eta 0:00:01\r\u001b[K     |████▉                           | 61kB 5.4MB/s eta 0:00:01\r\u001b[K     |█████▋                          | 71kB 5.8MB/s eta 0:00:01\r\u001b[K     |██████▍                         | 81kB 5.8MB/s eta 0:00:01\r\u001b[K     |███████▏                        | 92kB 5.8MB/s eta 0:00:01\r\u001b[K     |████████                        | 102kB 5.9MB/s eta 0:00:01\r\u001b[K     |████████▉                       | 112kB 5.9MB/s eta 0:00:01\r\u001b[K     |█████████▋                      | 122kB 5.9MB/s eta 0:00:01\r\u001b[K     |██████████▍                     | 133kB 5.9MB/s eta 0:00:01\r\u001b[K     |███████████▏                    | 143kB 5.9MB/s eta 0:00:01\r\u001b[K     |████████████                    | 153kB 5.9MB/s eta 0:00:01\r\u001b[K     |████████████▉                   | 163kB 5.9MB/s eta 0:00:01\r\u001b[K     |█████████████▋                  | 174kB 5.9MB/s eta 0:00:01\r\u001b[K     |██████████████▍                 | 184kB 5.9MB/s eta 0:00:01\r\u001b[K     |███████████████▏                | 194kB 5.9MB/s eta 0:00:01\r\u001b[K     |████████████████                | 204kB 5.9MB/s eta 0:00:01\r\u001b[K     |████████████████▉               | 215kB 5.9MB/s eta 0:00:01\r\u001b[K     |█████████████████▋              | 225kB 5.9MB/s eta 0:00:01\r\u001b[K     |██████████████████▍             | 235kB 5.9MB/s eta 0:00:01\r\u001b[K     |███████████████████▏            | 245kB 5.9MB/s eta 0:00:01\r\u001b[K     |████████████████████            | 256kB 5.9MB/s eta 0:00:01\r\u001b[K     |████████████████████▉           | 266kB 5.9MB/s eta 0:00:01\r\u001b[K     |█████████████████████▋          | 276kB 5.9MB/s eta 0:00:01\r\u001b[K     |██████████████████████▍         | 286kB 5.9MB/s eta 0:00:01\r\u001b[K     |███████████████████████▏        | 296kB 5.9MB/s eta 0:00:01\r\u001b[K     |████████████████████████        | 307kB 5.9MB/s eta 0:00:01\r\u001b[K     |████████████████████████▉       | 317kB 5.9MB/s eta 0:00:01\r\u001b[K     |█████████████████████████▋      | 327kB 5.9MB/s eta 0:00:01\r\u001b[K     |██████████████████████████▍     | 337kB 5.9MB/s eta 0:00:01\r\u001b[K     |███████████████████████████▏    | 348kB 5.9MB/s eta 0:00:01\r\u001b[K     |████████████████████████████    | 358kB 5.9MB/s eta 0:00:01\r\u001b[K     |████████████████████████████▉   | 368kB 5.9MB/s eta 0:00:01\r\u001b[K     |█████████████████████████████▋  | 378kB 5.9MB/s eta 0:00:01\r\u001b[K     |██████████████████████████████▍ | 389kB 5.9MB/s eta 0:00:01\r\u001b[K     |███████████████████████████████▏| 399kB 5.9MB/s eta 0:00:01\r\u001b[K     |████████████████████████████████| 409kB 5.9MB/s eta 0:00:01\r\u001b[K     |████████████████████████████████| 419kB 5.9MB/s \n",
            "\u001b[?25hRequirement already satisfied: pandas>0.24.0 in /usr/local/lib/python3.7/dist-packages (from pyreadr) (1.1.5)\n",
            "Requirement already satisfied: numpy>=1.15.4 in /usr/local/lib/python3.7/dist-packages (from pandas>0.24.0->pyreadr) (1.19.5)\n",
            "Requirement already satisfied: pytz>=2017.2 in /usr/local/lib/python3.7/dist-packages (from pandas>0.24.0->pyreadr) (2018.9)\n",
            "Requirement already satisfied: python-dateutil>=2.7.3 in /usr/local/lib/python3.7/dist-packages (from pandas>0.24.0->pyreadr) (2.8.1)\n",
            "Requirement already satisfied: six>=1.5 in /usr/local/lib/python3.7/dist-packages (from python-dateutil>=2.7.3->pandas>0.24.0->pyreadr) (1.15.0)\n",
            "Installing collected packages: pyreadr\n",
            "Successfully installed pyreadr-0.4.2\n",
            "Collecting apyori\n",
            "  Downloading https://files.pythonhosted.org/packages/5e/62/5ffde5c473ea4b033490617ec5caa80d59804875ad3c3c57c0976533a21a/apyori-1.1.2.tar.gz\n",
            "Building wheels for collected packages: apyori\n",
            "  Building wheel for apyori (setup.py) ... \u001b[?25l\u001b[?25hdone\n",
            "  Created wheel for apyori: filename=apyori-1.1.2-cp37-none-any.whl size=5975 sha256=92fe7377026e4f7d4a31737db666415ff0e07051b60774517738416ea71c8623\n",
            "  Stored in directory: /root/.cache/pip/wheels/5d/92/bb/474bbadbc8c0062b9eb168f69982a0443263f8ab1711a8cad0\n",
            "Successfully built apyori\n",
            "Installing collected packages: apyori\n",
            "Successfully installed apyori-1.1.2\n"
          ],
          "name": "stdout"
        }
      ]
    },
    {
      "cell_type": "code",
      "metadata": {
        "colab": {
          "background_save": true
        },
        "id": "VQfDIyGMW0c6"
      },
      "source": [
        "import pandas as pd\n",
        "import pyreadr\n",
        "from google.colab import drive"
      ],
      "execution_count": null,
      "outputs": []
    },
    {
      "cell_type": "code",
      "metadata": {
        "colab": {
          "background_save": true
        },
        "id": "p3Wyx9g4kZzc"
      },
      "source": [
        "pd.set_option(\"display.max_columns\", None)\n",
        "pd.set_option(\"display.max_rows\", None)"
      ],
      "execution_count": null,
      "outputs": []
    },
    {
      "cell_type": "code",
      "metadata": {
        "colab": {
          "background_save": true,
          "base_uri": "https://localhost:8080/"
        },
        "id": "3BTZe4QIZ0py",
        "outputId": "0bf4fd69-e43b-452d-8ef2-cde526a373c4"
      },
      "source": [
        "drive.mount(\"/content/drive\")"
      ],
      "execution_count": null,
      "outputs": [
        {
          "output_type": "stream",
          "text": [
            "Mounted at /content/drive\n"
          ],
          "name": "stdout"
        }
      ]
    },
    {
      "cell_type": "code",
      "metadata": {
        "colab": {
          "background_save": true
        },
        "id": "T2_MUtR2bvFZ"
      },
      "source": [
        "task1_data = pyreadr.read_r('/content/drive/My Drive/Datascience/uap/Interview_tasks/Task1/task1.rds')"
      ],
      "execution_count": null,
      "outputs": []
    },
    {
      "cell_type": "code",
      "metadata": {
        "colab": {
          "background_save": true,
          "base_uri": "https://localhost:8080/"
        },
        "id": "AYeb-aGCcnGn",
        "outputId": "fa2a3593-fc8f-4af7-b275-f29196c681c0"
      },
      "source": [
        "task1_data.keys()"
      ],
      "execution_count": null,
      "outputs": [
        {
          "output_type": "execute_result",
          "data": {
            "text/plain": [
              "odict_keys([None])"
            ]
          },
          "metadata": {
            "tags": []
          },
          "execution_count": 0
        }
      ]
    },
    {
      "cell_type": "code",
      "metadata": {
        "colab": {
          "background_save": true
        },
        "id": "OkRdMVN2gY8k"
      },
      "source": [
        "df1 = task1_data[None] "
      ],
      "execution_count": null,
      "outputs": []
    },
    {
      "cell_type": "code",
      "metadata": {
        "colab": {
          "background_save": true,
          "base_uri": "https://localhost:8080/",
          "height": 224
        },
        "id": "3phCNj77gcJf",
        "outputId": "0477b135-f00b-4df5-d9dd-91dd20f359f6"
      },
      "source": [
        "df1.head()"
      ],
      "execution_count": null,
      "outputs": [
        {
          "output_type": "execute_result",
          "data": {
            "text/html": [
              "<div>\n",
              "<style scoped>\n",
              "    .dataframe tbody tr th:only-of-type {\n",
              "        vertical-align: middle;\n",
              "    }\n",
              "\n",
              "    .dataframe tbody tr th {\n",
              "        vertical-align: top;\n",
              "    }\n",
              "\n",
              "    .dataframe thead th {\n",
              "        text-align: right;\n",
              "    }\n",
              "</style>\n",
              "<table border=\"1\" class=\"dataframe\">\n",
              "  <thead>\n",
              "    <tr style=\"text-align: right;\">\n",
              "      <th></th>\n",
              "      <th>d_date_id</th>\n",
              "      <th>d_time_id</th>\n",
              "      <th>d_store_id</th>\n",
              "      <th>d_loyalty_instrument_id</th>\n",
              "      <th>d_item_id</th>\n",
              "      <th>d_global_item_id</th>\n",
              "      <th>d_person_id</th>\n",
              "      <th>d_promotion_id</th>\n",
              "      <th>d_currency_id</th>\n",
              "      <th>d_item_group_id</th>\n",
              "      <th>bon_id</th>\n",
              "      <th>bon_id_int</th>\n",
              "      <th>hascard</th>\n",
              "      <th>hasch</th>\n",
              "      <th>unit_price</th>\n",
              "      <th>quantity</th>\n",
              "      <th>sales_amount</th>\n",
              "      <th>sales_amount_before_discount</th>\n",
              "      <th>vat_amount</th>\n",
              "      <th>discount_amount</th>\n",
              "      <th>items_count</th>\n",
              "      <th>card_items_count</th>\n",
              "      <th>card_quantity</th>\n",
              "      <th>card_sales_amount</th>\n",
              "      <th>card_discount_amount</th>\n",
              "      <th>promotion_items_count</th>\n",
              "      <th>promotion_quantity</th>\n",
              "      <th>promotion_sales_amount</th>\n",
              "      <th>promotion_discount_amount</th>\n",
              "      <th>price_w</th>\n",
              "    </tr>\n",
              "  </thead>\n",
              "  <tbody>\n",
              "    <tr>\n",
              "      <th>0</th>\n",
              "      <td>20140901</td>\n",
              "      <td>15</td>\n",
              "      <td>5</td>\n",
              "      <td>1</td>\n",
              "      <td>1</td>\n",
              "      <td>8320</td>\n",
              "      <td>1</td>\n",
              "      <td>1</td>\n",
              "      <td>3</td>\n",
              "      <td>0</td>\n",
              "      <td>M042014090101000002000088</td>\n",
              "      <td>456567</td>\n",
              "      <td>0</td>\n",
              "      <td>0</td>\n",
              "      <td>0.505051</td>\n",
              "      <td>1.0</td>\n",
              "      <td>0.505051</td>\n",
              "      <td>0.505051</td>\n",
              "      <td>0.083838</td>\n",
              "      <td>0.0</td>\n",
              "      <td>1</td>\n",
              "      <td>0</td>\n",
              "      <td>0.0</td>\n",
              "      <td>0.0</td>\n",
              "      <td>0.0</td>\n",
              "      <td>0</td>\n",
              "      <td>0</td>\n",
              "      <td>0.0</td>\n",
              "      <td>0.0</td>\n",
              "      <td>0.505051</td>\n",
              "    </tr>\n",
              "    <tr>\n",
              "      <th>1</th>\n",
              "      <td>20140901</td>\n",
              "      <td>15</td>\n",
              "      <td>9</td>\n",
              "      <td>1</td>\n",
              "      <td>1</td>\n",
              "      <td>1</td>\n",
              "      <td>1</td>\n",
              "      <td>1</td>\n",
              "      <td>3</td>\n",
              "      <td>0</td>\n",
              "      <td>M112014090101000008000109</td>\n",
              "      <td>774482</td>\n",
              "      <td>0</td>\n",
              "      <td>0</td>\n",
              "      <td>1.707071</td>\n",
              "      <td>1.0</td>\n",
              "      <td>1.707071</td>\n",
              "      <td>1.707071</td>\n",
              "      <td>0.284848</td>\n",
              "      <td>0.0</td>\n",
              "      <td>1</td>\n",
              "      <td>0</td>\n",
              "      <td>0.0</td>\n",
              "      <td>0.0</td>\n",
              "      <td>0.0</td>\n",
              "      <td>0</td>\n",
              "      <td>0</td>\n",
              "      <td>0.0</td>\n",
              "      <td>0.0</td>\n",
              "      <td>1.707071</td>\n",
              "    </tr>\n",
              "    <tr>\n",
              "      <th>2</th>\n",
              "      <td>20140901</td>\n",
              "      <td>15</td>\n",
              "      <td>9</td>\n",
              "      <td>1</td>\n",
              "      <td>1</td>\n",
              "      <td>1113</td>\n",
              "      <td>1</td>\n",
              "      <td>1</td>\n",
              "      <td>3</td>\n",
              "      <td>0</td>\n",
              "      <td>M112014090101000005000109</td>\n",
              "      <td>769791</td>\n",
              "      <td>0</td>\n",
              "      <td>0</td>\n",
              "      <td>0.454545</td>\n",
              "      <td>6.0</td>\n",
              "      <td>2.727273</td>\n",
              "      <td>2.727273</td>\n",
              "      <td>0.454545</td>\n",
              "      <td>0.0</td>\n",
              "      <td>1</td>\n",
              "      <td>0</td>\n",
              "      <td>0.0</td>\n",
              "      <td>0.0</td>\n",
              "      <td>0.0</td>\n",
              "      <td>0</td>\n",
              "      <td>0</td>\n",
              "      <td>0.0</td>\n",
              "      <td>0.0</td>\n",
              "      <td>2.727270</td>\n",
              "    </tr>\n",
              "    <tr>\n",
              "      <th>3</th>\n",
              "      <td>20140901</td>\n",
              "      <td>15</td>\n",
              "      <td>9</td>\n",
              "      <td>1</td>\n",
              "      <td>1</td>\n",
              "      <td>3336</td>\n",
              "      <td>1</td>\n",
              "      <td>1</td>\n",
              "      <td>3</td>\n",
              "      <td>0</td>\n",
              "      <td>M112014090101000008000109</td>\n",
              "      <td>774482</td>\n",
              "      <td>0</td>\n",
              "      <td>0</td>\n",
              "      <td>3.535354</td>\n",
              "      <td>1.0</td>\n",
              "      <td>3.535354</td>\n",
              "      <td>3.535354</td>\n",
              "      <td>0.588889</td>\n",
              "      <td>0.0</td>\n",
              "      <td>1</td>\n",
              "      <td>0</td>\n",
              "      <td>0.0</td>\n",
              "      <td>0.0</td>\n",
              "      <td>0.0</td>\n",
              "      <td>0</td>\n",
              "      <td>0</td>\n",
              "      <td>0.0</td>\n",
              "      <td>0.0</td>\n",
              "      <td>3.535354</td>\n",
              "    </tr>\n",
              "    <tr>\n",
              "      <th>4</th>\n",
              "      <td>20140901</td>\n",
              "      <td>15</td>\n",
              "      <td>9</td>\n",
              "      <td>1</td>\n",
              "      <td>1</td>\n",
              "      <td>11707</td>\n",
              "      <td>1</td>\n",
              "      <td>1</td>\n",
              "      <td>3</td>\n",
              "      <td>0</td>\n",
              "      <td>M112014090101000002000109</td>\n",
              "      <td>774481</td>\n",
              "      <td>0</td>\n",
              "      <td>0</td>\n",
              "      <td>0.959596</td>\n",
              "      <td>1.0</td>\n",
              "      <td>0.959596</td>\n",
              "      <td>0.959596</td>\n",
              "      <td>0.159596</td>\n",
              "      <td>0.0</td>\n",
              "      <td>1</td>\n",
              "      <td>0</td>\n",
              "      <td>0.0</td>\n",
              "      <td>0.0</td>\n",
              "      <td>0.0</td>\n",
              "      <td>0</td>\n",
              "      <td>0</td>\n",
              "      <td>0.0</td>\n",
              "      <td>0.0</td>\n",
              "      <td>0.959596</td>\n",
              "    </tr>\n",
              "  </tbody>\n",
              "</table>\n",
              "</div>"
            ],
            "text/plain": [
              "   d_date_id  d_time_id  d_store_id  d_loyalty_instrument_id  d_item_id  \\\n",
              "0   20140901         15           5                        1          1   \n",
              "1   20140901         15           9                        1          1   \n",
              "2   20140901         15           9                        1          1   \n",
              "3   20140901         15           9                        1          1   \n",
              "4   20140901         15           9                        1          1   \n",
              "\n",
              "   d_global_item_id  d_person_id  d_promotion_id  d_currency_id  \\\n",
              "0              8320            1               1              3   \n",
              "1                 1            1               1              3   \n",
              "2              1113            1               1              3   \n",
              "3              3336            1               1              3   \n",
              "4             11707            1               1              3   \n",
              "\n",
              "   d_item_group_id                     bon_id  bon_id_int  hascard  hasch  \\\n",
              "0                0  M042014090101000002000088      456567        0      0   \n",
              "1                0  M112014090101000008000109      774482        0      0   \n",
              "2                0  M112014090101000005000109      769791        0      0   \n",
              "3                0  M112014090101000008000109      774482        0      0   \n",
              "4                0  M112014090101000002000109      774481        0      0   \n",
              "\n",
              "   unit_price  quantity  sales_amount  sales_amount_before_discount  \\\n",
              "0    0.505051       1.0      0.505051                      0.505051   \n",
              "1    1.707071       1.0      1.707071                      1.707071   \n",
              "2    0.454545       6.0      2.727273                      2.727273   \n",
              "3    3.535354       1.0      3.535354                      3.535354   \n",
              "4    0.959596       1.0      0.959596                      0.959596   \n",
              "\n",
              "   vat_amount  discount_amount  items_count  card_items_count  card_quantity  \\\n",
              "0    0.083838              0.0            1                 0            0.0   \n",
              "1    0.284848              0.0            1                 0            0.0   \n",
              "2    0.454545              0.0            1                 0            0.0   \n",
              "3    0.588889              0.0            1                 0            0.0   \n",
              "4    0.159596              0.0            1                 0            0.0   \n",
              "\n",
              "   card_sales_amount  card_discount_amount  promotion_items_count  \\\n",
              "0                0.0                   0.0                      0   \n",
              "1                0.0                   0.0                      0   \n",
              "2                0.0                   0.0                      0   \n",
              "3                0.0                   0.0                      0   \n",
              "4                0.0                   0.0                      0   \n",
              "\n",
              "   promotion_quantity  promotion_sales_amount  promotion_discount_amount  \\\n",
              "0                   0                     0.0                        0.0   \n",
              "1                   0                     0.0                        0.0   \n",
              "2                   0                     0.0                        0.0   \n",
              "3                   0                     0.0                        0.0   \n",
              "4                   0                     0.0                        0.0   \n",
              "\n",
              "    price_w  \n",
              "0  0.505051  \n",
              "1  1.707071  \n",
              "2  2.727270  \n",
              "3  3.535354  \n",
              "4  0.959596  "
            ]
          },
          "metadata": {
            "tags": []
          },
          "execution_count": 0
        }
      ]
    },
    {
      "cell_type": "code",
      "metadata": {
        "colab": {
          "background_save": true
        },
        "id": "q6zdkC-0kO0S"
      },
      "source": [
        "df1.isnull()"
      ],
      "execution_count": null,
      "outputs": []
    },
    {
      "cell_type": "markdown",
      "metadata": {
        "id": "P8PqbVExKTm2"
      },
      "source": [
        "**Task 1**\n",
        "\n",
        "You are provided with a small subset of data (please refer to Task 1 folder) on in-store\n",
        "purchases by a chain of supermarkets. You are required to provide your input on the following\n",
        "questions: \n",
        "\n",
        "**Question 1:**\n",
        "\n",
        "Identify and visualize which store has the\n",
        "highest turnover within the available time.\n"
      ]
    },
    {
      "cell_type": "code",
      "metadata": {
        "colab": {
          "background_save": true
        },
        "id": "rFgNtKdPKphV"
      },
      "source": [
        ""
      ],
      "execution_count": null,
      "outputs": []
    }
  ]
}